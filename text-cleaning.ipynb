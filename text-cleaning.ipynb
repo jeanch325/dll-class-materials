{
 "cells": [
  {
   "cell_type": "code",
   "execution_count": null,
   "metadata": {},
   "outputs": [],
   "source": [
    "# example of text cleaning\n",
    "import json\n",
    "tweets_json_path = '/Users/maxfowler/computer/projects/project-archive/2017/computer-lab-publication/versacejs.json'\n",
    "texts = []\n",
    "with open(tweets_json_path) as f:\n",
    "    contents = json.loads(f.read())\n",
    "    for tweet in contents:\n",
    "        texts.append(tweet['text'])\n",
    "        \n",
    "output_path = \"/Users/maxfowler/Desktop/tweetcorpus.txt\"\n",
    "with open(output_path, 'w') as f:\n",
    "    for text in texts:\n",
    "        f.write(text + '\\n')\n",
    "        \n",
    "print('++ completed')"
   ]
  },
  {
   "cell_type": "code",
   "execution_count": null,
   "metadata": {},
   "outputs": [],
   "source": [
    "# example of text cleaning\n",
    "import json\n",
    "maildir = '/Users/maxfowler/Desktop/maildir'\n",
    "\n",
    "import re\n",
    "\n",
    "lines = []\n",
    "\n",
    "import os\n",
    "dirs  = os.listdir(maildir)\n",
    "for d in dirs:\n",
    "    dirpath = os.path.join(maildir, d)\n",
    "    emails_path = os.path.join(dirpath, '_sent_mail')\n",
    "    if os.path.exists(emails_path):\n",
    "        emails = os.listdir(emails_path)\n",
    "        for email in emails[:1]:\n",
    "            email_path = os.path.join(emails_path, email)\n",
    "#             print(email_path)\n",
    "            with open(email_path) as f:\n",
    "                contents = f.read()\n",
    "                parts = re.split(r\"Subject:.*\\n\", contents)\n",
    "                email_content = parts[-1]\n",
    "                for line in email_content.split('\\n'):\n",
    "                    if not ':' in line:\n",
    "                        lines.append(line)\n",
    "#                         print(line)\n",
    "                        \n",
    "output_path = '/Users/maxfowler/Desktop/texts/enron.txt'\n",
    "with open(output_path, 'w') as f:\n",
    "    for line in lines:\n",
    "        if line:\n",
    "            f.write(line + '\\n')\n",
    "            \n"
   ]
  }
 ],
 "metadata": {
  "kernelspec": {
   "display_name": "Python 3",
   "language": "python",
   "name": "python3"
  },
  "language_info": {
   "codemirror_mode": {
    "name": "ipython",
    "version": 3
   },
   "file_extension": ".py",
   "mimetype": "text/x-python",
   "name": "python",
   "nbconvert_exporter": "python",
   "pygments_lexer": "ipython3",
   "version": "3.7.6"
  }
 },
 "nbformat": 4,
 "nbformat_minor": 4
}
